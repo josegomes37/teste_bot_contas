{
  "nbformat": 4,
  "nbformat_minor": 0,
  "metadata": {
    "colab": {
      "provenance": [],
      "authorship_tag": "ABX9TyMpwcEcpHhy1ZjnoLEOR+6+",
      "include_colab_link": true
    },
    "kernelspec": {
      "name": "python3",
      "display_name": "Python 3"
    },
    "language_info": {
      "name": "python"
    }
  },
  "cells": [
    {
      "cell_type": "markdown",
      "metadata": {
        "id": "view-in-github",
        "colab_type": "text"
      },
      "source": [
        "<a href=\"https://colab.research.google.com/github/josegomes37/teste_bot_contas/blob/main/teste_bot.ipynb\" target=\"_parent\"><img src=\"https://colab.research.google.com/assets/colab-badge.svg\" alt=\"Open In Colab\"/></a>"
      ]
    },
    {
      "cell_type": "code",
      "execution_count": null,
      "metadata": {
        "id": "T3s_FCVsP7uT"
      },
      "outputs": [],
      "source": [
        "url = \"https://servicos.neoenergiacosern.com.br/area-logada/Paginas/login.aspx\"\n",
        "\n",
        "login = \"672.875.734-15\"\n",
        "senha = \"Eesolar22!\"\n",
        "conta_contrato = \"7006395303\""
      ]
    },
    {
      "cell_type": "code",
      "source": [
        "#!pip install selenium"
      ],
      "metadata": {
        "id": "JW2-oppgQrLc"
      },
      "execution_count": 8,
      "outputs": []
    },
    {
      "cell_type": "code",
      "source": [
        "from selenium.webdriver import Chrome\n",
        "from selenium.webdriver.support.wait import WebDriverWait\n"
      ],
      "metadata": {
        "id": "VvvOWVCeQCe5"
      },
      "execution_count": null,
      "outputs": []
    },
    {
      "cell_type": "code",
      "source": [
        "#abrindo navegador\n",
        "browser = Chrome()\n",
        "browser.get(url)\n",
        "browser.implicitly_wait(5)"
      ],
      "metadata": {
        "id": "ZTYwGxHlQKHu"
      },
      "execution_count": 7,
      "outputs": []
    },
    {
      "cell_type": "code",
      "source": [
        "#localizando os campos de login e senha\n",
        "usuario_input = browser.find_element(By.ID,\"ctl00_SPWebPartManager1_g_ce3cd6ac_877a_48b9_a88e_85d1cf86c2bf_ctl00_txtCNPJ_CPF\")\n",
        "senha_input = browser.find_element(By.ID,\"ctl00_SPWebPartManager1_g_ce3cd6ac_877a_48b9_a88e_85d1cf86c2bf_ctl00_txtSenha\")"
      ],
      "metadata": {
        "id": "V5xZb402QNpR"
      },
      "execution_count": null,
      "outputs": []
    },
    {
      "cell_type": "code",
      "source": [
        "#escrevendo login e senha\n",
        "usuario_input.send_keys(login)\n",
        "senha_input.send_keys(senha)\n"
      ],
      "metadata": {
        "id": "-W3EwOQDQPw2"
      },
      "execution_count": null,
      "outputs": []
    },
    {
      "cell_type": "code",
      "source": [
        "#clicando em \"acessar\"\n",
        "browser.implicitly_wait(2)\n",
        "click_1 = browser.find_element(By.XPATH,'//*[@id=\"panel-login\"]/div[2]/button').click()"
      ],
      "metadata": {
        "id": "AEmzz4G6QT0B"
      },
      "execution_count": null,
      "outputs": []
    },
    {
      "cell_type": "code",
      "source": [
        "browser.quit()"
      ],
      "metadata": {
        "id": "3UImvNTLQWUG"
      },
      "execution_count": null,
      "outputs": []
    }
  ]
}